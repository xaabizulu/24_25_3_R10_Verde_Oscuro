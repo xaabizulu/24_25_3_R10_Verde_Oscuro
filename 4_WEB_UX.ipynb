{
 "cells": [
  {
   "cell_type": "code",
   "execution_count": 47,
   "metadata": {},
   "outputs": [],
   "source": [
    "import pandas as pd"
   ]
  },
  {
   "cell_type": "code",
   "execution_count": 48,
   "metadata": {},
   "outputs": [],
   "source": [
    "ux = pd.read_csv('Datos/Datos UX/page_views.csv')"
   ]
  },
  {
   "cell_type": "code",
   "execution_count": 49,
   "metadata": {},
   "outputs": [
    {
     "name": "stdout",
     "output_type": "stream",
     "text": [
      "<class 'pandas.core.frame.DataFrame'>\n",
      "RangeIndex: 794 entries, 0 to 793\n",
      "Data columns (total 6 columns):\n",
      " #   Column           Non-Null Count  Dtype \n",
      "---  ------           --------------  ----- \n",
      " 0   Unnamed: 0       794 non-null    int64 \n",
      " 1   event_name       794 non-null    object\n",
      " 2   section          794 non-null    object\n",
      " 3   user_id          794 non-null    object\n",
      " 4   event_date       794 non-null    object\n",
      " 5   event_timestamp  794 non-null    object\n",
      "dtypes: int64(1), object(5)\n",
      "memory usage: 37.3+ KB\n"
     ]
    }
   ],
   "source": [
    "ux.info()"
   ]
  },
  {
   "cell_type": "code",
   "execution_count": 50,
   "metadata": {},
   "outputs": [],
   "source": [
    "# cambio tipo datos fecha\n",
    "ux['event_date'] = pd.to_datetime(ux['event_date'])\n",
    "ux['event_timestamp'] = pd.to_datetime(ux['event_timestamp'])  "
   ]
  },
  {
   "cell_type": "code",
   "execution_count": 51,
   "metadata": {},
   "outputs": [
    {
     "data": {
      "text/plain": [
       "Unnamed: 0                  int64\n",
       "event_name                 object\n",
       "section                    object\n",
       "user_id                    object\n",
       "event_date         datetime64[ns]\n",
       "event_timestamp    datetime64[ns]\n",
       "dtype: object"
      ]
     },
     "execution_count": 51,
     "metadata": {},
     "output_type": "execute_result"
    }
   ],
   "source": [
    "ux.dtypes"
   ]
  },
  {
   "cell_type": "code",
   "execution_count": 52,
   "metadata": {},
   "outputs": [
    {
     "name": "stdout",
     "output_type": "stream",
     "text": [
      "Valores únicos de la columna 'section':\n",
      "['quiz_work' 'quiz_fit' 'quiz_highlight' 'quiz_bodyShape' 'quiz_eyes'\n",
      " 'quiz_hair' 'quiz_sizes' 'quiz_measurements' 'quiz_focus'\n",
      " 'quiz_adventurous' 'quiz_styles' 'quiz_prices' 'quiz_avoid'\n",
      " 'quiz_footwear' 'quiz_you' 'quiz_photos' 'quiz_social' 'quiz_signUp'\n",
      " 'quiz_leisure']\n",
      "\n",
      "\n"
     ]
    }
   ],
   "source": [
    "columns = ['section']\n",
    "\n",
    "for column in columns:\n",
    "    print(f\"Valores únicos de la columna '{column}':\")\n",
    "    print(ux[column].unique())\n",
    "    print(\"\\n\")"
   ]
  },
  {
   "cell_type": "code",
   "execution_count": 53,
   "metadata": {},
   "outputs": [
    {
     "data": {
      "text/plain": [
       "True"
      ]
     },
     "execution_count": 53,
     "metadata": {},
     "output_type": "execute_result"
    }
   ],
   "source": [
    "# Comprobacion de que estan ordenado el df por id y dentro de eso por el timestamp, para asegurar que esta en orden\n",
    "ux.sort_values(by=['user_id', 'event_timestamp']).equals(ux)"
   ]
  },
  {
   "cell_type": "markdown",
   "metadata": {},
   "source": [
    "### Se cambia el formato de la tabla para tener los recorridos de cada user y ver si avanza, retrocede o recarga"
   ]
  },
  {
   "cell_type": "code",
   "execution_count": 54,
   "metadata": {},
   "outputs": [],
   "source": [
    "import pandas as pd\n",
    "\n",
    "# Orden de las secciones del test\n",
    "section_order = [\n",
    "    'quiz_leisure', 'quiz_work', 'quiz_fit', 'quiz_highlight', 'quiz_bodyShape',\n",
    "    'quiz_eyes', 'quiz_hair', 'quiz_sizes', 'quiz_measurements', 'quiz_focus',\n",
    "    'quiz_adventurous', 'quiz_styles', 'quiz_prices', 'quiz_avoid',\n",
    "    'quiz_footwear', 'quiz_you', 'quiz_photos', 'quiz_social', 'quiz_signUp'\n",
    "]\n",
    "\n",
    "# Crear un diccionario para asignar un índice a cada sección\n",
    "section_indices = {section: idx for idx, section in enumerate(section_order)}\n",
    "\n",
    "# Función para categorizar los movimientos\n",
    "def categorize_movement(sections):\n",
    "    movements = []\n",
    "    for i in range(1, len(sections)):\n",
    "        prev_idx = section_indices[sections[i - 1]]\n",
    "        curr_idx = section_indices[sections[i]]\n",
    "        if curr_idx > prev_idx:\n",
    "            movements.append(\"Avanza\")\n",
    "        elif curr_idx == prev_idx:\n",
    "            movements.append(\"Recarga\")\n",
    "        else:\n",
    "            movements.append(\"Retrocede\")\n",
    "    return movements\n",
    "\n",
    "# Función para calcular el tiempo pasado en cada página en formato HH:MM:SS\n",
    "def calculate_time_spent(timestamps):\n",
    "    time_spent = []\n",
    "    for i in range(1, len(timestamps)):\n",
    "        delta = (timestamps[i] - timestamps[i - 1]).total_seconds()\n",
    "        hours, remainder = divmod(delta, 3600)\n",
    "        minutes, seconds = divmod(remainder, 60)\n",
    "        time_spent.append(f\"{int(hours):02}:{int(minutes):02}:{int(seconds):02}\")\n",
    "        \n",
    "    time_spent.append(\"00:00:15\")\n",
    "    return time_spent\n",
    "\n",
    "# Leer el archivo CSV y convertir la columna 'event_timestamp' a datetime\n",
    "ux = pd.read_csv('Datos/Datos UX/page_views.csv')\n",
    "ux['event_timestamp'] = pd.to_datetime(ux['event_timestamp'])\n",
    "\n",
    "# Agrupar por usuario y analizar los movimientos\n",
    "results = []\n",
    "for user_id, group in ux.groupby('user_id'):\n",
    "    sections = group['section'].tolist()\n",
    "    timestamps = group['event_timestamp'].tolist()\n",
    "    movements = categorize_movement(sections)\n",
    "    time_spent = calculate_time_spent(timestamps)\n",
    "    results.append({\n",
    "        \"user_id\": user_id,\n",
    "        \"sections\": sections,\n",
    "        \"movements\": movements,\n",
    "        \"time_spent\": time_spent\n",
    "    })\n",
    "\n",
    "# Convertir los resultados a un DataFrame\n",
    "movement_df = pd.DataFrame(results)\n",
    "movement_df['length'] = movement_df['sections'].apply(len)"
   ]
  },
  {
   "cell_type": "code",
   "execution_count": 56,
   "metadata": {},
   "outputs": [
    {
     "data": {
      "application/vnd.plotly.v1+json": {
       "config": {
        "plotlyServerURL": "https://plot.ly"
       },
       "data": [
        {
         "link": {
          "source": [
           1,
           2,
           3,
           4,
           5,
           6,
           7,
           8,
           9,
           10,
           11,
           12,
           13,
           14,
           15,
           16,
           17,
           0,
           18,
           18,
           17,
           16,
           15,
           14,
           13,
           12,
           11,
           10,
           9,
           8,
           7,
           6,
           5,
           4,
           3,
           2,
           1,
           0,
           13,
           6,
           6,
           18,
           1,
           16,
           18,
           8,
           11
          ],
          "target": [
           2,
           3,
           4,
           5,
           6,
           7,
           8,
           9,
           10,
           11,
           12,
           13,
           14,
           15,
           16,
           17,
           18,
           1,
           18,
           17,
           16,
           15,
           14,
           13,
           12,
           11,
           10,
           9,
           8,
           7,
           6,
           5,
           4,
           3,
           2,
           1,
           0,
           0,
           15,
           6,
           1,
           0,
           1,
           18,
           1,
           8,
           11
          ],
          "value": [
           41,
           41,
           41,
           41,
           40,
           42,
           39,
           39,
           39,
           42,
           41,
           40,
           28,
           28,
           40,
           38,
           38,
           13,
           3,
           4,
           2,
           3,
           2,
           2,
           3,
           4,
           5,
           2,
           2,
           2,
           5,
           2,
           3,
           3,
           3,
           2,
           2,
           6,
           11,
           1,
           1,
           3,
           1,
           1,
           1,
           2,
           1
          ]
         },
         "node": {
          "label": [
           "quiz_leisure",
           "quiz_work",
           "quiz_fit",
           "quiz_highlight",
           "quiz_bodyShape",
           "quiz_eyes",
           "quiz_hair",
           "quiz_sizes",
           "quiz_measurements",
           "quiz_focus",
           "quiz_adventurous",
           "quiz_styles",
           "quiz_prices",
           "quiz_avoid",
           "quiz_footwear",
           "quiz_you",
           "quiz_photos",
           "quiz_social",
           "quiz_signUp"
          ],
          "line": {
           "color": "black",
           "width": 0.5
          },
          "pad": 15,
          "thickness": 3
         },
         "type": "sankey"
        }
       ],
       "layout": {
        "font": {
         "size": 10
        },
        "template": {
         "data": {
          "bar": [
           {
            "error_x": {
             "color": "#2a3f5f"
            },
            "error_y": {
             "color": "#2a3f5f"
            },
            "marker": {
             "line": {
              "color": "#E5ECF6",
              "width": 0.5
             },
             "pattern": {
              "fillmode": "overlay",
              "size": 10,
              "solidity": 0.2
             }
            },
            "type": "bar"
           }
          ],
          "barpolar": [
           {
            "marker": {
             "line": {
              "color": "#E5ECF6",
              "width": 0.5
             },
             "pattern": {
              "fillmode": "overlay",
              "size": 10,
              "solidity": 0.2
             }
            },
            "type": "barpolar"
           }
          ],
          "carpet": [
           {
            "aaxis": {
             "endlinecolor": "#2a3f5f",
             "gridcolor": "white",
             "linecolor": "white",
             "minorgridcolor": "white",
             "startlinecolor": "#2a3f5f"
            },
            "baxis": {
             "endlinecolor": "#2a3f5f",
             "gridcolor": "white",
             "linecolor": "white",
             "minorgridcolor": "white",
             "startlinecolor": "#2a3f5f"
            },
            "type": "carpet"
           }
          ],
          "choropleth": [
           {
            "colorbar": {
             "outlinewidth": 0,
             "ticks": ""
            },
            "type": "choropleth"
           }
          ],
          "contour": [
           {
            "colorbar": {
             "outlinewidth": 0,
             "ticks": ""
            },
            "colorscale": [
             [
              0,
              "#0d0887"
             ],
             [
              0.1111111111111111,
              "#46039f"
             ],
             [
              0.2222222222222222,
              "#7201a8"
             ],
             [
              0.3333333333333333,
              "#9c179e"
             ],
             [
              0.4444444444444444,
              "#bd3786"
             ],
             [
              0.5555555555555556,
              "#d8576b"
             ],
             [
              0.6666666666666666,
              "#ed7953"
             ],
             [
              0.7777777777777778,
              "#fb9f3a"
             ],
             [
              0.8888888888888888,
              "#fdca26"
             ],
             [
              1,
              "#f0f921"
             ]
            ],
            "type": "contour"
           }
          ],
          "contourcarpet": [
           {
            "colorbar": {
             "outlinewidth": 0,
             "ticks": ""
            },
            "type": "contourcarpet"
           }
          ],
          "heatmap": [
           {
            "colorbar": {
             "outlinewidth": 0,
             "ticks": ""
            },
            "colorscale": [
             [
              0,
              "#0d0887"
             ],
             [
              0.1111111111111111,
              "#46039f"
             ],
             [
              0.2222222222222222,
              "#7201a8"
             ],
             [
              0.3333333333333333,
              "#9c179e"
             ],
             [
              0.4444444444444444,
              "#bd3786"
             ],
             [
              0.5555555555555556,
              "#d8576b"
             ],
             [
              0.6666666666666666,
              "#ed7953"
             ],
             [
              0.7777777777777778,
              "#fb9f3a"
             ],
             [
              0.8888888888888888,
              "#fdca26"
             ],
             [
              1,
              "#f0f921"
             ]
            ],
            "type": "heatmap"
           }
          ],
          "heatmapgl": [
           {
            "colorbar": {
             "outlinewidth": 0,
             "ticks": ""
            },
            "colorscale": [
             [
              0,
              "#0d0887"
             ],
             [
              0.1111111111111111,
              "#46039f"
             ],
             [
              0.2222222222222222,
              "#7201a8"
             ],
             [
              0.3333333333333333,
              "#9c179e"
             ],
             [
              0.4444444444444444,
              "#bd3786"
             ],
             [
              0.5555555555555556,
              "#d8576b"
             ],
             [
              0.6666666666666666,
              "#ed7953"
             ],
             [
              0.7777777777777778,
              "#fb9f3a"
             ],
             [
              0.8888888888888888,
              "#fdca26"
             ],
             [
              1,
              "#f0f921"
             ]
            ],
            "type": "heatmapgl"
           }
          ],
          "histogram": [
           {
            "marker": {
             "pattern": {
              "fillmode": "overlay",
              "size": 10,
              "solidity": 0.2
             }
            },
            "type": "histogram"
           }
          ],
          "histogram2d": [
           {
            "colorbar": {
             "outlinewidth": 0,
             "ticks": ""
            },
            "colorscale": [
             [
              0,
              "#0d0887"
             ],
             [
              0.1111111111111111,
              "#46039f"
             ],
             [
              0.2222222222222222,
              "#7201a8"
             ],
             [
              0.3333333333333333,
              "#9c179e"
             ],
             [
              0.4444444444444444,
              "#bd3786"
             ],
             [
              0.5555555555555556,
              "#d8576b"
             ],
             [
              0.6666666666666666,
              "#ed7953"
             ],
             [
              0.7777777777777778,
              "#fb9f3a"
             ],
             [
              0.8888888888888888,
              "#fdca26"
             ],
             [
              1,
              "#f0f921"
             ]
            ],
            "type": "histogram2d"
           }
          ],
          "histogram2dcontour": [
           {
            "colorbar": {
             "outlinewidth": 0,
             "ticks": ""
            },
            "colorscale": [
             [
              0,
              "#0d0887"
             ],
             [
              0.1111111111111111,
              "#46039f"
             ],
             [
              0.2222222222222222,
              "#7201a8"
             ],
             [
              0.3333333333333333,
              "#9c179e"
             ],
             [
              0.4444444444444444,
              "#bd3786"
             ],
             [
              0.5555555555555556,
              "#d8576b"
             ],
             [
              0.6666666666666666,
              "#ed7953"
             ],
             [
              0.7777777777777778,
              "#fb9f3a"
             ],
             [
              0.8888888888888888,
              "#fdca26"
             ],
             [
              1,
              "#f0f921"
             ]
            ],
            "type": "histogram2dcontour"
           }
          ],
          "mesh3d": [
           {
            "colorbar": {
             "outlinewidth": 0,
             "ticks": ""
            },
            "type": "mesh3d"
           }
          ],
          "parcoords": [
           {
            "line": {
             "colorbar": {
              "outlinewidth": 0,
              "ticks": ""
             }
            },
            "type": "parcoords"
           }
          ],
          "pie": [
           {
            "automargin": true,
            "type": "pie"
           }
          ],
          "scatter": [
           {
            "fillpattern": {
             "fillmode": "overlay",
             "size": 10,
             "solidity": 0.2
            },
            "type": "scatter"
           }
          ],
          "scatter3d": [
           {
            "line": {
             "colorbar": {
              "outlinewidth": 0,
              "ticks": ""
             }
            },
            "marker": {
             "colorbar": {
              "outlinewidth": 0,
              "ticks": ""
             }
            },
            "type": "scatter3d"
           }
          ],
          "scattercarpet": [
           {
            "marker": {
             "colorbar": {
              "outlinewidth": 0,
              "ticks": ""
             }
            },
            "type": "scattercarpet"
           }
          ],
          "scattergeo": [
           {
            "marker": {
             "colorbar": {
              "outlinewidth": 0,
              "ticks": ""
             }
            },
            "type": "scattergeo"
           }
          ],
          "scattergl": [
           {
            "marker": {
             "colorbar": {
              "outlinewidth": 0,
              "ticks": ""
             }
            },
            "type": "scattergl"
           }
          ],
          "scattermapbox": [
           {
            "marker": {
             "colorbar": {
              "outlinewidth": 0,
              "ticks": ""
             }
            },
            "type": "scattermapbox"
           }
          ],
          "scatterpolar": [
           {
            "marker": {
             "colorbar": {
              "outlinewidth": 0,
              "ticks": ""
             }
            },
            "type": "scatterpolar"
           }
          ],
          "scatterpolargl": [
           {
            "marker": {
             "colorbar": {
              "outlinewidth": 0,
              "ticks": ""
             }
            },
            "type": "scatterpolargl"
           }
          ],
          "scatterternary": [
           {
            "marker": {
             "colorbar": {
              "outlinewidth": 0,
              "ticks": ""
             }
            },
            "type": "scatterternary"
           }
          ],
          "surface": [
           {
            "colorbar": {
             "outlinewidth": 0,
             "ticks": ""
            },
            "colorscale": [
             [
              0,
              "#0d0887"
             ],
             [
              0.1111111111111111,
              "#46039f"
             ],
             [
              0.2222222222222222,
              "#7201a8"
             ],
             [
              0.3333333333333333,
              "#9c179e"
             ],
             [
              0.4444444444444444,
              "#bd3786"
             ],
             [
              0.5555555555555556,
              "#d8576b"
             ],
             [
              0.6666666666666666,
              "#ed7953"
             ],
             [
              0.7777777777777778,
              "#fb9f3a"
             ],
             [
              0.8888888888888888,
              "#fdca26"
             ],
             [
              1,
              "#f0f921"
             ]
            ],
            "type": "surface"
           }
          ],
          "table": [
           {
            "cells": {
             "fill": {
              "color": "#EBF0F8"
             },
             "line": {
              "color": "white"
             }
            },
            "header": {
             "fill": {
              "color": "#C8D4E3"
             },
             "line": {
              "color": "white"
             }
            },
            "type": "table"
           }
          ]
         },
         "layout": {
          "annotationdefaults": {
           "arrowcolor": "#2a3f5f",
           "arrowhead": 0,
           "arrowwidth": 1
          },
          "autotypenumbers": "strict",
          "coloraxis": {
           "colorbar": {
            "outlinewidth": 0,
            "ticks": ""
           }
          },
          "colorscale": {
           "diverging": [
            [
             0,
             "#8e0152"
            ],
            [
             0.1,
             "#c51b7d"
            ],
            [
             0.2,
             "#de77ae"
            ],
            [
             0.3,
             "#f1b6da"
            ],
            [
             0.4,
             "#fde0ef"
            ],
            [
             0.5,
             "#f7f7f7"
            ],
            [
             0.6,
             "#e6f5d0"
            ],
            [
             0.7,
             "#b8e186"
            ],
            [
             0.8,
             "#7fbc41"
            ],
            [
             0.9,
             "#4d9221"
            ],
            [
             1,
             "#276419"
            ]
           ],
           "sequential": [
            [
             0,
             "#0d0887"
            ],
            [
             0.1111111111111111,
             "#46039f"
            ],
            [
             0.2222222222222222,
             "#7201a8"
            ],
            [
             0.3333333333333333,
             "#9c179e"
            ],
            [
             0.4444444444444444,
             "#bd3786"
            ],
            [
             0.5555555555555556,
             "#d8576b"
            ],
            [
             0.6666666666666666,
             "#ed7953"
            ],
            [
             0.7777777777777778,
             "#fb9f3a"
            ],
            [
             0.8888888888888888,
             "#fdca26"
            ],
            [
             1,
             "#f0f921"
            ]
           ],
           "sequentialminus": [
            [
             0,
             "#0d0887"
            ],
            [
             0.1111111111111111,
             "#46039f"
            ],
            [
             0.2222222222222222,
             "#7201a8"
            ],
            [
             0.3333333333333333,
             "#9c179e"
            ],
            [
             0.4444444444444444,
             "#bd3786"
            ],
            [
             0.5555555555555556,
             "#d8576b"
            ],
            [
             0.6666666666666666,
             "#ed7953"
            ],
            [
             0.7777777777777778,
             "#fb9f3a"
            ],
            [
             0.8888888888888888,
             "#fdca26"
            ],
            [
             1,
             "#f0f921"
            ]
           ]
          },
          "colorway": [
           "#636efa",
           "#EF553B",
           "#00cc96",
           "#ab63fa",
           "#FFA15A",
           "#19d3f3",
           "#FF6692",
           "#B6E880",
           "#FF97FF",
           "#FECB52"
          ],
          "font": {
           "color": "#2a3f5f"
          },
          "geo": {
           "bgcolor": "white",
           "lakecolor": "white",
           "landcolor": "#E5ECF6",
           "showlakes": true,
           "showland": true,
           "subunitcolor": "white"
          },
          "hoverlabel": {
           "align": "left"
          },
          "hovermode": "closest",
          "mapbox": {
           "style": "light"
          },
          "paper_bgcolor": "white",
          "plot_bgcolor": "#E5ECF6",
          "polar": {
           "angularaxis": {
            "gridcolor": "white",
            "linecolor": "white",
            "ticks": ""
           },
           "bgcolor": "#E5ECF6",
           "radialaxis": {
            "gridcolor": "white",
            "linecolor": "white",
            "ticks": ""
           }
          },
          "scene": {
           "xaxis": {
            "backgroundcolor": "#E5ECF6",
            "gridcolor": "white",
            "gridwidth": 2,
            "linecolor": "white",
            "showbackground": true,
            "ticks": "",
            "zerolinecolor": "white"
           },
           "yaxis": {
            "backgroundcolor": "#E5ECF6",
            "gridcolor": "white",
            "gridwidth": 2,
            "linecolor": "white",
            "showbackground": true,
            "ticks": "",
            "zerolinecolor": "white"
           },
           "zaxis": {
            "backgroundcolor": "#E5ECF6",
            "gridcolor": "white",
            "gridwidth": 2,
            "linecolor": "white",
            "showbackground": true,
            "ticks": "",
            "zerolinecolor": "white"
           }
          },
          "shapedefaults": {
           "line": {
            "color": "#2a3f5f"
           }
          },
          "ternary": {
           "aaxis": {
            "gridcolor": "white",
            "linecolor": "white",
            "ticks": ""
           },
           "baxis": {
            "gridcolor": "white",
            "linecolor": "white",
            "ticks": ""
           },
           "bgcolor": "#E5ECF6",
           "caxis": {
            "gridcolor": "white",
            "linecolor": "white",
            "ticks": ""
           }
          },
          "title": {
           "x": 0.05
          },
          "xaxis": {
           "automargin": true,
           "gridcolor": "white",
           "linecolor": "white",
           "ticks": "",
           "title": {
            "standoff": 15
           },
           "zerolinecolor": "white",
           "zerolinewidth": 2
          },
          "yaxis": {
           "automargin": true,
           "gridcolor": "white",
           "linecolor": "white",
           "ticks": "",
           "title": {
            "standoff": 15
           },
           "zerolinecolor": "white",
           "zerolinewidth": 2
          }
         }
        },
        "title": {
         "text": "Flujo de Navegación en el Cuestionario"
        }
       }
      }
     },
     "metadata": {},
     "output_type": "display_data"
    }
   ],
   "source": [
    "import pandas as pd\n",
    "import plotly.graph_objects as go\n",
    "from collections import Counter\n",
    "\n",
    "# Orden de las secciones\n",
    "section_order = ['quiz_leisure', 'quiz_work', 'quiz_fit', 'quiz_highlight', 'quiz_bodyShape', \n",
    "                 'quiz_eyes', 'quiz_hair', 'quiz_sizes', 'quiz_measurements', 'quiz_focus', \n",
    "                 'quiz_adventurous', 'quiz_styles', 'quiz_prices', 'quiz_avoid', 'quiz_footwear', \n",
    "                 'quiz_you', 'quiz_photos', 'quiz_social', 'quiz_signUp']\n",
    "\n",
    "# Crear lista de transiciones\n",
    "transitions = []\n",
    "for path in movement_df['sections']:\n",
    "    transitions.extend([(path[i], path[i+1]) for i in range(len(path)-1)])\n",
    "\n",
    "# Contar las transiciones únicas\n",
    "transition_counts = Counter(transitions)\n",
    "\n",
    "# Obtener nodos ordenados según section_order\n",
    "nodes = section_order\n",
    "node_indices = {node: i for i, node in enumerate(nodes)}\n",
    "\n",
    "# Calcular los tamaños de los nodos basado en el número de transiciones (o cualquier otro criterio)\n",
    "node_sizes = [sum(1 for transition in transition_counts if node in transition) for node in nodes]\n",
    "\n",
    "# Escalar tamaños de los nodos para visualización\n",
    "max_size = max(node_sizes)  # El tamaño máximo para el nodo más grande\n",
    "scaled_sizes = [size / max_size * 30 + 10 for size in node_sizes]  # Escalar tamaño entre 10 y 40 (ajustar este rango si es necesario)\n",
    "\n",
    "# Crear listas de origen, destino y valores\n",
    "source = [node_indices[src] for src, dest in transition_counts.keys()]\n",
    "target = [node_indices[dest] for src, dest in transition_counts.keys()]\n",
    "values = list(transition_counts.values())\n",
    "\n",
    "# Crear gráfico de Sankey\n",
    "fig = go.Figure(go.Sankey(\n",
    "    node=dict(\n",
    "        pad=15,\n",
    "        thickness=3,  # Usar un único valor escalado para todos los nodos\n",
    "        line=dict(color='black', width=0.5),\n",
    "        label=nodes\n",
    "    ),\n",
    "    link=dict(\n",
    "        source=source,\n",
    "        target=target,\n",
    "        value=values\n",
    "    )\n",
    "))\n",
    "\n",
    "fig.update_layout(title_text='Flujo de Navegación en el Cuestionario', font_size=10)\n",
    "fig.show()\n",
    "\n"
   ]
  },
  {
   "cell_type": "markdown",
   "metadata": {},
   "source": [
    "### ESTADISTICOS DE LAS PAGINAS"
   ]
  },
  {
   "cell_type": "code",
   "execution_count": 57,
   "metadata": {},
   "outputs": [],
   "source": [
    "df = movement_df"
   ]
  },
  {
   "cell_type": "markdown",
   "metadata": {},
   "source": [
    "Porcentaje de completar test"
   ]
  },
  {
   "cell_type": "code",
   "execution_count": 58,
   "metadata": {},
   "outputs": [
    {
     "name": "stdout",
     "output_type": "stream",
     "text": [
      "Tasa de conversión: 78.04878048780488%\n"
     ]
    }
   ],
   "source": [
    "completados = df[df['sections'].apply(lambda x: x[-1] == 'quiz_signUp')]\n",
    "tasa_conversion = len(completados) / len(df) * 100\n",
    "print(f\"Tasa de conversión: {tasa_conversion}%\")"
   ]
  },
  {
   "cell_type": "code",
   "execution_count": 59,
   "metadata": {},
   "outputs": [
    {
     "name": "stdout",
     "output_type": "stream",
     "text": [
      "Tasa de abandono: 21.951219512195124%\n"
     ]
    }
   ],
   "source": [
    "# Tasa de abandono\n",
    "abandonados = df[df['sections'].apply(lambda x: x[-1] != 'quiz_signUp')]\n",
    "tasa_abandono = len(abandonados) / len(df) * 100\n",
    "print(f\"Tasa de abandono: {tasa_abandono}%\")"
   ]
  },
  {
   "cell_type": "markdown",
   "metadata": {},
   "source": [
    "Paginas mas abandonadas"
   ]
  },
  {
   "cell_type": "code",
   "execution_count": 60,
   "metadata": {},
   "outputs": [],
   "source": [
    "df['first'] = df['sections'].apply(lambda x: x[0])\n",
    "df['last'] = df['sections'].apply(lambda x: x[-1])"
   ]
  },
  {
   "cell_type": "code",
   "execution_count": 61,
   "metadata": {},
   "outputs": [
    {
     "data": {
      "text/plain": [
       "last\n",
       "quiz_signUp     32\n",
       "quiz_leisure     5\n",
       "quiz_social      2\n",
       "quiz_fit         1\n",
       "quiz_work        1\n",
       "Name: count, dtype: int64"
      ]
     },
     "execution_count": 61,
     "metadata": {},
     "output_type": "execute_result"
    }
   ],
   "source": [
    "df['last'].value_counts()\n",
    "# La mayoria de los users abandonan en la pagina de Quiz SignUp, lo que viene a ser la ultima columna, es decir, que la mayoria completan el cuestionario."
   ]
  },
  {
   "cell_type": "code",
   "execution_count": 62,
   "metadata": {},
   "outputs": [
    {
     "data": {
      "image/png": "[encoded data removed]",
      "text/plain": [
       "<Figure size 1000x600 with 1 Axes>"
      ]
     },
     "metadata": {},
     "output_type": "display_data"
    }
   ],
   "source": [
    "import matplotlib.pyplot as plt\n",
    "\n",
    "# Obtener los datos\n",
    "counts = df['last'].value_counts()\n",
    "\n",
    "# Graficar\n",
    "plt.figure(figsize=(10, 6))\n",
    "counts.plot(kind='bar', color='lightcoral', edgecolor='black')\n",
    "plt.title('Páginas en las que los usuarios abandonan', fontsize=14, weight = 'bold')\n",
    "plt.xlabel('Página ', fontsize=12)\n",
    "plt.ylabel('Frecuencia', fontsize=12)\n",
    "plt.xticks(rotation=45, fontsize=13)\n",
    "plt.grid(axis='y', linestyle='--', alpha=0.7)\n",
    "plt.tight_layout()\n",
    "plt.show()\n"
   ]
  },
  {
   "cell_type": "code",
   "execution_count": 63,
   "metadata": {},
   "outputs": [
    {
     "data": {
      "text/html": [
       "<div>\n",
       "<style scoped>\n",
       "    .dataframe tbody tr th:only-of-type {\n",
       "        vertical-align: middle;\n",
       "    }\n",
       "\n",
       "    .dataframe tbody tr th {\n",
       "        vertical-align: top;\n",
       "    }\n",
       "\n",
       "    .dataframe thead th {\n",
       "        text-align: right;\n",
       "    }\n",
       "</style>\n",
       "<table border=\"1\" class=\"dataframe\">\n",
       "  <thead>\n",
       "    <tr style=\"text-align: right;\">\n",
       "      <th></th>\n",
       "      <th>user_id</th>\n",
       "      <th>sections</th>\n",
       "      <th>movements</th>\n",
       "      <th>time_spent</th>\n",
       "      <th>length</th>\n",
       "      <th>first</th>\n",
       "      <th>last</th>\n",
       "    </tr>\n",
       "  </thead>\n",
       "  <tbody>\n",
       "    <tr>\n",
       "      <th>16</th>\n",
       "      <td>7c4e48f6b2b5467082ecbec04e1f10c5</td>\n",
       "      <td>[quiz_leisure, quiz_work, quiz_fit, quiz_highl...</td>\n",
       "      <td>[Avanza, Avanza, Avanza, Avanza, Avanza, Avanz...</td>\n",
       "      <td>[00:00:06, 00:00:07, 00:00:00, 00:00:12, 00:00...</td>\n",
       "      <td>41</td>\n",
       "      <td>quiz_leisure</td>\n",
       "      <td>quiz_social</td>\n",
       "    </tr>\n",
       "    <tr>\n",
       "      <th>27</th>\n",
       "      <td>bfe389a3d0744080825867c731cf194d</td>\n",
       "      <td>[quiz_leisure, quiz_work, quiz_fit, quiz_highl...</td>\n",
       "      <td>[Avanza, Avanza, Avanza, Avanza, Avanza, Avanz...</td>\n",
       "      <td>[00:00:10, 00:00:07, 00:00:15, 00:00:33, 00:00...</td>\n",
       "      <td>19</td>\n",
       "      <td>quiz_leisure</td>\n",
       "      <td>quiz_social</td>\n",
       "    </tr>\n",
       "  </tbody>\n",
       "</table>\n",
       "</div>"
      ],
      "text/plain": [
       "                             user_id  \\\n",
       "16  7c4e48f6b2b5467082ecbec04e1f10c5   \n",
       "27  bfe389a3d0744080825867c731cf194d   \n",
       "\n",
       "                                             sections  \\\n",
       "16  [quiz_leisure, quiz_work, quiz_fit, quiz_highl...   \n",
       "27  [quiz_leisure, quiz_work, quiz_fit, quiz_highl...   \n",
       "\n",
       "                                            movements  \\\n",
       "16  [Avanza, Avanza, Avanza, Avanza, Avanza, Avanz...   \n",
       "27  [Avanza, Avanza, Avanza, Avanza, Avanza, Avanz...   \n",
       "\n",
       "                                           time_spent  length         first  \\\n",
       "16  [00:00:06, 00:00:07, 00:00:00, 00:00:12, 00:00...      41  quiz_leisure   \n",
       "27  [00:00:10, 00:00:07, 00:00:15, 00:00:33, 00:00...      19  quiz_leisure   \n",
       "\n",
       "           last  \n",
       "16  quiz_social  \n",
       "27  quiz_social  "
      ]
     },
     "execution_count": 63,
     "metadata": {},
     "output_type": "execute_result"
    }
   ],
   "source": [
    "movement_df[movement_df['last'] == 'quiz_social']"
   ]
  },
  {
   "cell_type": "markdown",
   "metadata": {},
   "source": [
    "Paginas que mas tiempo ocupan"
   ]
  },
  {
   "cell_type": "code",
   "execution_count": 64,
   "metadata": {},
   "outputs": [
    {
     "data": {
      "text/html": [
       "<div>\n",
       "<style scoped>\n",
       "    .dataframe tbody tr th:only-of-type {\n",
       "        vertical-align: middle;\n",
       "    }\n",
       "\n",
       "    .dataframe tbody tr th {\n",
       "        vertical-align: top;\n",
       "    }\n",
       "\n",
       "    .dataframe thead th {\n",
       "        text-align: right;\n",
       "    }\n",
       "</style>\n",
       "<table border=\"1\" class=\"dataframe\">\n",
       "  <thead>\n",
       "    <tr style=\"text-align: right;\">\n",
       "      <th></th>\n",
       "      <th>user_id</th>\n",
       "      <th>sections</th>\n",
       "      <th>movements</th>\n",
       "      <th>time_spent</th>\n",
       "      <th>length</th>\n",
       "      <th>first</th>\n",
       "      <th>last</th>\n",
       "      <th>mayores_15</th>\n",
       "      <th>menores_15</th>\n",
       "    </tr>\n",
       "  </thead>\n",
       "  <tbody>\n",
       "    <tr>\n",
       "      <th>0</th>\n",
       "      <td>040e1e30c9ed4248bc9799a707e36d60</td>\n",
       "      <td>[quiz_work, quiz_fit, quiz_highlight, quiz_bod...</td>\n",
       "      <td>[Avanza, Avanza, Avanza, Avanza, Avanza, Avanz...</td>\n",
       "      <td>[00:00:09, 00:00:13, 00:00:14, 00:01:06, 00:00...</td>\n",
       "      <td>18</td>\n",
       "      <td>quiz_work</td>\n",
       "      <td>quiz_signUp</td>\n",
       "      <td>0</td>\n",
       "      <td>18</td>\n",
       "    </tr>\n",
       "    <tr>\n",
       "      <th>1</th>\n",
       "      <td>08524cc6b3544d65af7faa39e9abd3f2</td>\n",
       "      <td>[quiz_leisure, quiz_work, quiz_fit, quiz_highl...</td>\n",
       "      <td>[Avanza, Avanza, Avanza, Avanza, Avanza, Avanz...</td>\n",
       "      <td>[00:00:15, 00:00:07, 00:00:18, 00:00:19, 00:00...</td>\n",
       "      <td>57</td>\n",
       "      <td>quiz_leisure</td>\n",
       "      <td>quiz_signUp</td>\n",
       "      <td>1</td>\n",
       "      <td>56</td>\n",
       "    </tr>\n",
       "    <tr>\n",
       "      <th>2</th>\n",
       "      <td>0b9ab36679d64edbb7d6a830d103b91f</td>\n",
       "      <td>[quiz_work, quiz_fit, quiz_highlight, quiz_bod...</td>\n",
       "      <td>[Avanza, Avanza, Avanza, Avanza, Avanza, Avanz...</td>\n",
       "      <td>[00:00:11, 00:00:11, 00:00:31, 00:00:27, 00:00...</td>\n",
       "      <td>18</td>\n",
       "      <td>quiz_work</td>\n",
       "      <td>quiz_signUp</td>\n",
       "      <td>0</td>\n",
       "      <td>18</td>\n",
       "    </tr>\n",
       "    <tr>\n",
       "      <th>3</th>\n",
       "      <td>0c4e7af8218440eaa383bc6655712a55</td>\n",
       "      <td>[quiz_leisure]</td>\n",
       "      <td>[]</td>\n",
       "      <td>[00:00:15]</td>\n",
       "      <td>1</td>\n",
       "      <td>quiz_leisure</td>\n",
       "      <td>quiz_leisure</td>\n",
       "      <td>0</td>\n",
       "      <td>1</td>\n",
       "    </tr>\n",
       "    <tr>\n",
       "      <th>4</th>\n",
       "      <td>117c6171044e4fdf8cbd8c4dc6a59cb8</td>\n",
       "      <td>[quiz_work, quiz_fit, quiz_highlight, quiz_bod...</td>\n",
       "      <td>[Avanza, Avanza, Avanza, Avanza, Avanza, Avanz...</td>\n",
       "      <td>[00:00:14, 00:00:09, 00:00:14, 00:00:41, 00:00...</td>\n",
       "      <td>18</td>\n",
       "      <td>quiz_work</td>\n",
       "      <td>quiz_signUp</td>\n",
       "      <td>0</td>\n",
       "      <td>18</td>\n",
       "    </tr>\n",
       "  </tbody>\n",
       "</table>\n",
       "</div>"
      ],
      "text/plain": [
       "                            user_id  \\\n",
       "0  040e1e30c9ed4248bc9799a707e36d60   \n",
       "1  08524cc6b3544d65af7faa39e9abd3f2   \n",
       "2  0b9ab36679d64edbb7d6a830d103b91f   \n",
       "3  0c4e7af8218440eaa383bc6655712a55   \n",
       "4  117c6171044e4fdf8cbd8c4dc6a59cb8   \n",
       "\n",
       "                                            sections  \\\n",
       "0  [quiz_work, quiz_fit, quiz_highlight, quiz_bod...   \n",
       "1  [quiz_leisure, quiz_work, quiz_fit, quiz_highl...   \n",
       "2  [quiz_work, quiz_fit, quiz_highlight, quiz_bod...   \n",
       "3                                     [quiz_leisure]   \n",
       "4  [quiz_work, quiz_fit, quiz_highlight, quiz_bod...   \n",
       "\n",
       "                                           movements  \\\n",
       "0  [Avanza, Avanza, Avanza, Avanza, Avanza, Avanz...   \n",
       "1  [Avanza, Avanza, Avanza, Avanza, Avanza, Avanz...   \n",
       "2  [Avanza, Avanza, Avanza, Avanza, Avanza, Avanz...   \n",
       "3                                                 []   \n",
       "4  [Avanza, Avanza, Avanza, Avanza, Avanza, Avanz...   \n",
       "\n",
       "                                          time_spent  length         first  \\\n",
       "0  [00:00:09, 00:00:13, 00:00:14, 00:01:06, 00:00...      18     quiz_work   \n",
       "1  [00:00:15, 00:00:07, 00:00:18, 00:00:19, 00:00...      57  quiz_leisure   \n",
       "2  [00:00:11, 00:00:11, 00:00:31, 00:00:27, 00:00...      18     quiz_work   \n",
       "3                                         [00:00:15]       1  quiz_leisure   \n",
       "4  [00:00:14, 00:00:09, 00:00:14, 00:00:41, 00:00...      18     quiz_work   \n",
       "\n",
       "           last  mayores_15  menores_15  \n",
       "0   quiz_signUp           0          18  \n",
       "1   quiz_signUp           1          56  \n",
       "2   quiz_signUp           0          18  \n",
       "3  quiz_leisure           0           1  \n",
       "4   quiz_signUp           0          18  "
      ]
     },
     "execution_count": 64,
     "metadata": {},
     "output_type": "execute_result"
    }
   ],
   "source": [
    "# Función para calcular los valores mayores y menores o iguales a 30 minutos\n",
    "def contar_tiempos(lista):\n",
    "    # Convertimos cada tiempo en segundos\n",
    "    tiempos_en_segundos = [\n",
    "        sum(int(x) * 60 ** i for i, x in enumerate(reversed(tiempo.split(\":\"))))\n",
    "        for tiempo in lista\n",
    "    ]\n",
    "    media_hora_segundos = 15 * 60  # 30 minutos en segundos\n",
    "    # Contamos los valores que cumplen las condiciones\n",
    "    mayor_a_15 = sum(1 for t in tiempos_en_segundos if t > media_hora_segundos)\n",
    "    menor_o_igual_a_15 = sum(1 for t in tiempos_en_segundos if t <= media_hora_segundos)\n",
    "    return mayor_a_15, menor_o_igual_a_15\n",
    "\n",
    "# Aplicar la función a cada lista de la columna\n",
    "movement_df[['mayores_15', 'menores_15']] = movement_df['time_spent'].apply(lambda x: pd.Series(contar_tiempos(x)))\n",
    "movement_df.head()"
   ]
  },
  {
   "cell_type": "code",
   "execution_count": 65,
   "metadata": {},
   "outputs": [
    {
     "data": {
      "text/html": [
       "<div>\n",
       "<style scoped>\n",
       "    .dataframe tbody tr th:only-of-type {\n",
       "        vertical-align: middle;\n",
       "    }\n",
       "\n",
       "    .dataframe tbody tr th {\n",
       "        vertical-align: top;\n",
       "    }\n",
       "\n",
       "    .dataframe thead th {\n",
       "        text-align: right;\n",
       "    }\n",
       "</style>\n",
       "<table border=\"1\" class=\"dataframe\">\n",
       "  <thead>\n",
       "    <tr style=\"text-align: right;\">\n",
       "      <th></th>\n",
       "      <th>sections</th>\n",
       "      <th>average_time</th>\n",
       "      <th>time_spent_seconds</th>\n",
       "    </tr>\n",
       "  </thead>\n",
       "  <tbody>\n",
       "    <tr>\n",
       "      <th>11</th>\n",
       "      <td>quiz_photos</td>\n",
       "      <td>00:03:50</td>\n",
       "      <td>230.208333</td>\n",
       "    </tr>\n",
       "    <tr>\n",
       "      <th>16</th>\n",
       "      <td>quiz_styles</td>\n",
       "      <td>00:01:04</td>\n",
       "      <td>64.000000</td>\n",
       "    </tr>\n",
       "    <tr>\n",
       "      <th>2</th>\n",
       "      <td>quiz_bodyShape</td>\n",
       "      <td>00:00:39</td>\n",
       "      <td>39.538462</td>\n",
       "    </tr>\n",
       "    <tr>\n",
       "      <th>14</th>\n",
       "      <td>quiz_sizes</td>\n",
       "      <td>00:00:38</td>\n",
       "      <td>38.041667</td>\n",
       "    </tr>\n",
       "    <tr>\n",
       "      <th>6</th>\n",
       "      <td>quiz_footwear</td>\n",
       "      <td>00:00:36</td>\n",
       "      <td>36.937500</td>\n",
       "    </tr>\n",
       "    <tr>\n",
       "      <th>0</th>\n",
       "      <td>quiz_adventurous</td>\n",
       "      <td>00:00:34</td>\n",
       "      <td>34.555556</td>\n",
       "    </tr>\n",
       "    <tr>\n",
       "      <th>13</th>\n",
       "      <td>quiz_signUp</td>\n",
       "      <td>00:00:30</td>\n",
       "      <td>30.840000</td>\n",
       "    </tr>\n",
       "    <tr>\n",
       "      <th>18</th>\n",
       "      <td>quiz_you</td>\n",
       "      <td>00:00:24</td>\n",
       "      <td>24.708333</td>\n",
       "    </tr>\n",
       "    <tr>\n",
       "      <th>1</th>\n",
       "      <td>quiz_avoid</td>\n",
       "      <td>00:00:22</td>\n",
       "      <td>22.360000</td>\n",
       "    </tr>\n",
       "    <tr>\n",
       "      <th>8</th>\n",
       "      <td>quiz_highlight</td>\n",
       "      <td>00:00:21</td>\n",
       "      <td>21.730769</td>\n",
       "    </tr>\n",
       "    <tr>\n",
       "      <th>5</th>\n",
       "      <td>quiz_focus</td>\n",
       "      <td>00:00:21</td>\n",
       "      <td>21.375000</td>\n",
       "    </tr>\n",
       "    <tr>\n",
       "      <th>12</th>\n",
       "      <td>quiz_prices</td>\n",
       "      <td>00:00:21</td>\n",
       "      <td>21.038462</td>\n",
       "    </tr>\n",
       "    <tr>\n",
       "      <th>4</th>\n",
       "      <td>quiz_fit</td>\n",
       "      <td>00:00:19</td>\n",
       "      <td>19.153846</td>\n",
       "    </tr>\n",
       "    <tr>\n",
       "      <th>10</th>\n",
       "      <td>quiz_measurements</td>\n",
       "      <td>00:00:15</td>\n",
       "      <td>15.333333</td>\n",
       "    </tr>\n",
       "    <tr>\n",
       "      <th>15</th>\n",
       "      <td>quiz_social</td>\n",
       "      <td>00:00:14</td>\n",
       "      <td>14.916667</td>\n",
       "    </tr>\n",
       "    <tr>\n",
       "      <th>9</th>\n",
       "      <td>quiz_leisure</td>\n",
       "      <td>00:00:13</td>\n",
       "      <td>13.833333</td>\n",
       "    </tr>\n",
       "    <tr>\n",
       "      <th>17</th>\n",
       "      <td>quiz_work</td>\n",
       "      <td>00:00:11</td>\n",
       "      <td>11.074074</td>\n",
       "    </tr>\n",
       "    <tr>\n",
       "      <th>3</th>\n",
       "      <td>quiz_eyes</td>\n",
       "      <td>00:00:10</td>\n",
       "      <td>10.080000</td>\n",
       "    </tr>\n",
       "    <tr>\n",
       "      <th>7</th>\n",
       "      <td>quiz_hair</td>\n",
       "      <td>00:00:07</td>\n",
       "      <td>7.291667</td>\n",
       "    </tr>\n",
       "  </tbody>\n",
       "</table>\n",
       "</div>"
      ],
      "text/plain": [
       "             sections average_time  time_spent_seconds\n",
       "11        quiz_photos     00:03:50          230.208333\n",
       "16        quiz_styles     00:01:04           64.000000\n",
       "2      quiz_bodyShape     00:00:39           39.538462\n",
       "14         quiz_sizes     00:00:38           38.041667\n",
       "6       quiz_footwear     00:00:36           36.937500\n",
       "0    quiz_adventurous     00:00:34           34.555556\n",
       "13        quiz_signUp     00:00:30           30.840000\n",
       "18           quiz_you     00:00:24           24.708333\n",
       "1          quiz_avoid     00:00:22           22.360000\n",
       "8      quiz_highlight     00:00:21           21.730769\n",
       "5          quiz_focus     00:00:21           21.375000\n",
       "12        quiz_prices     00:00:21           21.038462\n",
       "4            quiz_fit     00:00:19           19.153846\n",
       "10  quiz_measurements     00:00:15           15.333333\n",
       "15        quiz_social     00:00:14           14.916667\n",
       "9        quiz_leisure     00:00:13           13.833333\n",
       "17          quiz_work     00:00:11           11.074074\n",
       "3           quiz_eyes     00:00:10           10.080000\n",
       "7           quiz_hair     00:00:07            7.291667"
      ]
     },
     "execution_count": 65,
     "metadata": {},
     "output_type": "execute_result"
    }
   ],
   "source": [
    "import pandas as pd\n",
    "\n",
    "# se filtra para obtener los users que no tienen tiempos mayores a 15 minutos y mas de una pagina vista\n",
    "menores_15 = movement_df[movement_df['mayores_15'] < 1]\n",
    "menores_15 = menores_15[menores_15['sections'].apply(lambda x: len(x) > 1)]\n",
    "\n",
    "# Expandir las listas de 'sections' y 'time_spent' en filas individuales\n",
    "expanded_df = menores_15.explode(['sections', 'time_spent'])\n",
    "\n",
    "# Convertir la columna 'time_spent' a segundos\n",
    "def time_to_seconds(time_str):\n",
    "    hours, minutes, seconds = map(int, time_str.split(':'))\n",
    "    return hours * 3600 + minutes * 60 + seconds\n",
    "\n",
    "expanded_df['time_spent_seconds'] = expanded_df['time_spent'].apply(time_to_seconds)\n",
    "\n",
    "# Calcular la media del tiempo (en segundos) por página\n",
    "average_time_per_page = (\n",
    "    expanded_df.groupby('sections')['time_spent_seconds']\n",
    "    .mean()\n",
    "    .reset_index()\n",
    "    .sort_values(by='time_spent_seconds', ascending=False)\n",
    ")\n",
    "\n",
    "# Opcional: Convertir de segundos a formato HH:MM:SS\n",
    "def seconds_to_time(seconds):\n",
    "    hours, remainder = divmod(seconds, 3600)\n",
    "    minutes, seconds = divmod(remainder, 60)\n",
    "    return f\"{int(hours):02}:{int(minutes):02}:{int(seconds):02}\"\n",
    "\n",
    "average_time_per_page['average_time'] = average_time_per_page['time_spent_seconds'].apply(seconds_to_time)\n",
    "\n",
    "# Mostrar la tabla final\n",
    "average_time_per_page[['sections', 'average_time', 'time_spent_seconds']]"
   ]
  },
  {
   "cell_type": "code",
   "execution_count": 66,
   "metadata": {},
   "outputs": [
    {
     "data": {
      "image/png": "[encoded data removed]",
      "text/plain": [
       "<Figure size 1000x600 with 1 Axes>"
      ]
     },
     "metadata": {},
     "output_type": "display_data"
    }
   ],
   "source": [
    "import matplotlib.pyplot as plt\n",
    "\n",
    "# Suponiendo que tu DataFrame se llama average_time_per_page\n",
    "df_grouped = average_time_per_page.groupby('sections')['time_spent_seconds'].sum()\n",
    "\n",
    "# Ordenar los valores de mayor a menor\n",
    "df_grouped = df_grouped.sort_values(ascending=False)\n",
    "\n",
    "# Crear el gráfico\n",
    "plt.figure(figsize=(10, 6))\n",
    "df_grouped.plot(kind='bar', color='lightcoral', edgecolor='black')\n",
    "\n",
    "# Personalizar el gráfico\n",
    "plt.title('Comparación de tiempos medios por cada sección', fontsize=16, weight = 'bold')\n",
    "plt.xlabel('Valores', fontsize=14)\n",
    "plt.ylabel('Tiempo en segundos', fontsize=14)\n",
    "plt.xticks(rotation=45, fontsize=12)\n",
    "plt.grid(axis='y', linestyle='--', alpha=0.7)\n",
    "\n",
    "# Mostrar\n",
    "plt.tight_layout()\n",
    "plt.show()\n"
   ]
  },
  {
   "cell_type": "code",
   "execution_count": 67,
   "metadata": {},
   "outputs": [
    {
     "name": "stdout",
     "output_type": "stream",
     "text": [
      "1285e4e59c0d43e4ac921cd9db535f0d\n",
      "quiz_work: 00:00:22\n",
      "quiz_fit: 00:00:41\n",
      "quiz_highlight: 00:00:25\n",
      "quiz_bodyShape: 00:00:31\n",
      "quiz_eyes: 00:00:06\n",
      "quiz_hair: 00:00:01\n",
      "quiz_sizes: 00:00:29\n",
      "quiz_measurements: 00:00:12\n",
      "quiz_focus: 00:00:17\n",
      "quiz_adventurous: 00:01:29\n",
      "quiz_styles: 00:03:15\n",
      "quiz_prices: 00:00:16\n",
      "quiz_avoid: 00:00:10\n",
      "quiz_footwear: 00:00:37\n",
      "quiz_you: 00:00:52\n",
      "quiz_photos: 00:20:08\n",
      "quiz_social: 00:00:14\n",
      "quiz_signUp: 00:00:15\n"
     ]
    }
   ],
   "source": [
    "# Imprimir cada sección con su tiempo correspondiente\n",
    "def print_sections_time(id):\n",
    "    sections = movement_df['sections'][id]\n",
    "    time_spent = movement_df['time_spent'][id]\n",
    "    print(movement_df['user_id'][id])\n",
    "    for section, time in zip(sections, time_spent):\n",
    "        print(f\"{section}: {time}\")\n",
    "\n",
    "print_sections_time(5)"
   ]
  },
  {
   "cell_type": "markdown",
   "metadata": {},
   "source": [
    "Ruta mas frecuente"
   ]
  },
  {
   "cell_type": "code",
   "execution_count": 68,
   "metadata": {},
   "outputs": [
    {
     "data": {
      "text/html": [
       "<div>\n",
       "<style scoped>\n",
       "    .dataframe tbody tr th:only-of-type {\n",
       "        vertical-align: middle;\n",
       "    }\n",
       "\n",
       "    .dataframe tbody tr th {\n",
       "        vertical-align: top;\n",
       "    }\n",
       "\n",
       "    .dataframe thead th {\n",
       "        text-align: right;\n",
       "    }\n",
       "</style>\n",
       "<table border=\"1\" class=\"dataframe\">\n",
       "  <thead>\n",
       "    <tr style=\"text-align: right;\">\n",
       "      <th></th>\n",
       "      <th>path</th>\n",
       "      <th>count</th>\n",
       "      <th>percentage</th>\n",
       "      <th>longitud</th>\n",
       "    </tr>\n",
       "  </thead>\n",
       "  <tbody>\n",
       "    <tr>\n",
       "      <th>0</th>\n",
       "      <td>[quiz_work, quiz_fit, quiz_highlight, quiz_bod...</td>\n",
       "      <td>11</td>\n",
       "      <td>26.829268</td>\n",
       "      <td>18</td>\n",
       "    </tr>\n",
       "    <tr>\n",
       "      <th>1</th>\n",
       "      <td>[quiz_work, quiz_fit, quiz_highlight, quiz_bod...</td>\n",
       "      <td>5</td>\n",
       "      <td>12.195122</td>\n",
       "      <td>17</td>\n",
       "    </tr>\n",
       "    <tr>\n",
       "      <th>2</th>\n",
       "      <td>[quiz_leisure, quiz_leisure]</td>\n",
       "      <td>2</td>\n",
       "      <td>4.878049</td>\n",
       "      <td>2</td>\n",
       "    </tr>\n",
       "    <tr>\n",
       "      <th>3</th>\n",
       "      <td>[quiz_leisure]</td>\n",
       "      <td>2</td>\n",
       "      <td>4.878049</td>\n",
       "      <td>1</td>\n",
       "    </tr>\n",
       "    <tr>\n",
       "      <th>4</th>\n",
       "      <td>[quiz_leisure, quiz_work, quiz_fit, quiz_highl...</td>\n",
       "      <td>2</td>\n",
       "      <td>4.878049</td>\n",
       "      <td>19</td>\n",
       "    </tr>\n",
       "    <tr>\n",
       "      <th>5</th>\n",
       "      <td>[quiz_leisure, quiz_work, quiz_fit, quiz_highl...</td>\n",
       "      <td>1</td>\n",
       "      <td>2.439024</td>\n",
       "      <td>21</td>\n",
       "    </tr>\n",
       "    <tr>\n",
       "      <th>6</th>\n",
       "      <td>[quiz_work, quiz_fit, quiz_highlight, quiz_bod...</td>\n",
       "      <td>1</td>\n",
       "      <td>2.439024</td>\n",
       "      <td>41</td>\n",
       "    </tr>\n",
       "    <tr>\n",
       "      <th>7</th>\n",
       "      <td>[quiz_work, quiz_fit, quiz_highlight, quiz_bod...</td>\n",
       "      <td>1</td>\n",
       "      <td>2.439024</td>\n",
       "      <td>19</td>\n",
       "    </tr>\n",
       "    <tr>\n",
       "      <th>8</th>\n",
       "      <td>[quiz_signUp, quiz_work, quiz_fit, quiz_highli...</td>\n",
       "      <td>1</td>\n",
       "      <td>2.439024</td>\n",
       "      <td>19</td>\n",
       "    </tr>\n",
       "    <tr>\n",
       "      <th>9</th>\n",
       "      <td>[quiz_work, quiz_fit, quiz_highlight, quiz_bod...</td>\n",
       "      <td>1</td>\n",
       "      <td>2.439024</td>\n",
       "      <td>19</td>\n",
       "    </tr>\n",
       "    <tr>\n",
       "      <th>10</th>\n",
       "      <td>[quiz_work, quiz_fit, quiz_highlight, quiz_bod...</td>\n",
       "      <td>1</td>\n",
       "      <td>2.439024</td>\n",
       "      <td>20</td>\n",
       "    </tr>\n",
       "    <tr>\n",
       "      <th>11</th>\n",
       "      <td>[quiz_leisure, quiz_work, quiz_fit, quiz_highl...</td>\n",
       "      <td>1</td>\n",
       "      <td>2.439024</td>\n",
       "      <td>19</td>\n",
       "    </tr>\n",
       "    <tr>\n",
       "      <th>12</th>\n",
       "      <td>[quiz_leisure, quiz_leisure, quiz_work, quiz_f...</td>\n",
       "      <td>1</td>\n",
       "      <td>2.439024</td>\n",
       "      <td>19</td>\n",
       "    </tr>\n",
       "    <tr>\n",
       "      <th>13</th>\n",
       "      <td>[quiz_work, quiz_work, quiz_fit, quiz_highligh...</td>\n",
       "      <td>1</td>\n",
       "      <td>2.439024</td>\n",
       "      <td>19</td>\n",
       "    </tr>\n",
       "    <tr>\n",
       "      <th>14</th>\n",
       "      <td>[quiz_work, quiz_fit, quiz_highlight, quiz_bod...</td>\n",
       "      <td>1</td>\n",
       "      <td>2.439024</td>\n",
       "      <td>20</td>\n",
       "    </tr>\n",
       "    <tr>\n",
       "      <th>15</th>\n",
       "      <td>[quiz_leisure, quiz_work, quiz_fit, quiz_highl...</td>\n",
       "      <td>1</td>\n",
       "      <td>2.439024</td>\n",
       "      <td>57</td>\n",
       "    </tr>\n",
       "    <tr>\n",
       "      <th>16</th>\n",
       "      <td>[quiz_leisure, quiz_work, quiz_fit, quiz_highl...</td>\n",
       "      <td>1</td>\n",
       "      <td>2.439024</td>\n",
       "      <td>41</td>\n",
       "    </tr>\n",
       "    <tr>\n",
       "      <th>17</th>\n",
       "      <td>[quiz_work, quiz_fit, quiz_highlight, quiz_bod...</td>\n",
       "      <td>1</td>\n",
       "      <td>2.439024</td>\n",
       "      <td>24</td>\n",
       "    </tr>\n",
       "    <tr>\n",
       "      <th>18</th>\n",
       "      <td>[quiz_leisure, quiz_work, quiz_fit, quiz_highl...</td>\n",
       "      <td>1</td>\n",
       "      <td>2.439024</td>\n",
       "      <td>20</td>\n",
       "    </tr>\n",
       "    <tr>\n",
       "      <th>19</th>\n",
       "      <td>[quiz_leisure, quiz_leisure, quiz_leisure, qui...</td>\n",
       "      <td>1</td>\n",
       "      <td>2.439024</td>\n",
       "      <td>37</td>\n",
       "    </tr>\n",
       "    <tr>\n",
       "      <th>20</th>\n",
       "      <td>[quiz_work, quiz_leisure, quiz_work, quiz_fit,...</td>\n",
       "      <td>1</td>\n",
       "      <td>2.439024</td>\n",
       "      <td>24</td>\n",
       "    </tr>\n",
       "    <tr>\n",
       "      <th>21</th>\n",
       "      <td>[quiz_work, quiz_fit, quiz_highlight, quiz_fit...</td>\n",
       "      <td>1</td>\n",
       "      <td>2.439024</td>\n",
       "      <td>19</td>\n",
       "    </tr>\n",
       "    <tr>\n",
       "      <th>22</th>\n",
       "      <td>[quiz_work, quiz_fit, quiz_highlight, quiz_bod...</td>\n",
       "      <td>1</td>\n",
       "      <td>2.439024</td>\n",
       "      <td>26</td>\n",
       "    </tr>\n",
       "    <tr>\n",
       "      <th>23</th>\n",
       "      <td>[quiz_work, quiz_fit, quiz_work]</td>\n",
       "      <td>1</td>\n",
       "      <td>2.439024</td>\n",
       "      <td>3</td>\n",
       "    </tr>\n",
       "  </tbody>\n",
       "</table>\n",
       "</div>"
      ],
      "text/plain": [
       "                                                 path  count  percentage  \\\n",
       "0   [quiz_work, quiz_fit, quiz_highlight, quiz_bod...     11   26.829268   \n",
       "1   [quiz_work, quiz_fit, quiz_highlight, quiz_bod...      5   12.195122   \n",
       "2                        [quiz_leisure, quiz_leisure]      2    4.878049   \n",
       "3                                      [quiz_leisure]      2    4.878049   \n",
       "4   [quiz_leisure, quiz_work, quiz_fit, quiz_highl...      2    4.878049   \n",
       "5   [quiz_leisure, quiz_work, quiz_fit, quiz_highl...      1    2.439024   \n",
       "6   [quiz_work, quiz_fit, quiz_highlight, quiz_bod...      1    2.439024   \n",
       "7   [quiz_work, quiz_fit, quiz_highlight, quiz_bod...      1    2.439024   \n",
       "8   [quiz_signUp, quiz_work, quiz_fit, quiz_highli...      1    2.439024   \n",
       "9   [quiz_work, quiz_fit, quiz_highlight, quiz_bod...      1    2.439024   \n",
       "10  [quiz_work, quiz_fit, quiz_highlight, quiz_bod...      1    2.439024   \n",
       "11  [quiz_leisure, quiz_work, quiz_fit, quiz_highl...      1    2.439024   \n",
       "12  [quiz_leisure, quiz_leisure, quiz_work, quiz_f...      1    2.439024   \n",
       "13  [quiz_work, quiz_work, quiz_fit, quiz_highligh...      1    2.439024   \n",
       "14  [quiz_work, quiz_fit, quiz_highlight, quiz_bod...      1    2.439024   \n",
       "15  [quiz_leisure, quiz_work, quiz_fit, quiz_highl...      1    2.439024   \n",
       "16  [quiz_leisure, quiz_work, quiz_fit, quiz_highl...      1    2.439024   \n",
       "17  [quiz_work, quiz_fit, quiz_highlight, quiz_bod...      1    2.439024   \n",
       "18  [quiz_leisure, quiz_work, quiz_fit, quiz_highl...      1    2.439024   \n",
       "19  [quiz_leisure, quiz_leisure, quiz_leisure, qui...      1    2.439024   \n",
       "20  [quiz_work, quiz_leisure, quiz_work, quiz_fit,...      1    2.439024   \n",
       "21  [quiz_work, quiz_fit, quiz_highlight, quiz_fit...      1    2.439024   \n",
       "22  [quiz_work, quiz_fit, quiz_highlight, quiz_bod...      1    2.439024   \n",
       "23                   [quiz_work, quiz_fit, quiz_work]      1    2.439024   \n",
       "\n",
       "    longitud  \n",
       "0         18  \n",
       "1         17  \n",
       "2          2  \n",
       "3          1  \n",
       "4         19  \n",
       "5         21  \n",
       "6         41  \n",
       "7         19  \n",
       "8         19  \n",
       "9         19  \n",
       "10        20  \n",
       "11        19  \n",
       "12        19  \n",
       "13        19  \n",
       "14        20  \n",
       "15        57  \n",
       "16        41  \n",
       "17        24  \n",
       "18        20  \n",
       "19        37  \n",
       "20        24  \n",
       "21        19  \n",
       "22        26  \n",
       "23         3  "
      ]
     },
     "execution_count": 68,
     "metadata": {},
     "output_type": "execute_result"
    }
   ],
   "source": [
    "# Contar los recorridos únicos\n",
    "path_counts = movement_df['sections'].value_counts().reset_index()\n",
    "path_counts.columns = ['path', 'count']\n",
    "\n",
    "# Calcular los porcentajes de cada recorrido\n",
    "path_counts['percentage'] = (path_counts['count'] / path_counts['count'].sum()) * 100\n",
    "path_counts['longitud'] = path_counts['path'].apply(lambda x: len(x))\n",
    " \n",
    "# Mostrar los resultados\n",
    "path_counts"
   ]
  },
  {
   "cell_type": "markdown",
   "metadata": {},
   "source": [
    "Nº avances, recargas, retrocesos"
   ]
  },
  {
   "cell_type": "code",
   "execution_count": 69,
   "metadata": {},
   "outputs": [
    {
     "name": "stdout",
     "output_type": "stream",
     "text": [
      "    movement  count  percentage\n",
      "0     Avanza    683   90.703851\n",
      "1  Retrocede     56    7.436919\n",
      "2    Recarga     14    1.859230\n"
     ]
    }
   ],
   "source": [
    "# Opcional: Analizar los movimientos (\"Avanza\", \"Recarga\", \"Retrocede\") a nivel agregado\n",
    "movement_counts = movement_df['movements'].explode().value_counts().reset_index()\n",
    "movement_counts.columns = ['movement', 'count']\n",
    "movement_counts['percentage'] = (movement_counts['count'] / movement_counts['count'].sum()) * 100\n",
    "\n",
    "print(movement_counts)"
   ]
  }
 ],
 "metadata": {
  "kernelspec": {
   "display_name": "reto_9",
   "language": "python",
   "name": "python3"
  },
  "language_info": {
   "codemirror_mode": {
    "name": "ipython",
    "version": 3
   },
   "file_extension": ".py",
   "mimetype": "text/x-python",
   "name": "python",
   "nbconvert_exporter": "python",
   "pygments_lexer": "ipython3",
   "version": "3.11.9"
  }
 },
 "nbformat": 4,
 "nbformat_minor": 2
}
